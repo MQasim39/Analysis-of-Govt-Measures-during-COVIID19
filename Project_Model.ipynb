{
  "metadata": {
    "kernelspec": {
      "display_name": "Python 3",
      "language": "python",
      "name": "python3"
    },
    "language_info": {
      "name": "python",
      "version": "3.6.6",
      "mimetype": "text/x-python",
      "codemirror_mode": {
        "name": "ipython",
        "version": 3
      },
      "pygments_lexer": "ipython3",
      "nbconvert_exporter": "python",
      "file_extension": ".py"
    },
    "colab": {
      "provenance": []
    }
  },
  "nbformat_minor": 0,
  "nbformat": 4,
  "cells": [
    {
      "cell_type": "markdown",
      "source": [
        "# **Loading the Data and Preprocessing**"
      ],
      "metadata": {
        "id": "D2MQwMvfmBE3"
      }
    },
    {
      "cell_type": "code",
      "source": [
        "import numpy as np \n",
        "import pandas as pd "
      ],
      "metadata": {
        "execution": {
          "iopub.status.busy": "2022-08-29T13:26:50.265128Z",
          "iopub.execute_input": "2022-08-29T13:26:50.265455Z",
          "iopub.status.idle": "2022-08-29T13:26:50.793750Z",
          "shell.execute_reply.started": "2022-08-29T13:26:50.265396Z",
          "shell.execute_reply": "2022-08-29T13:26:50.792475Z"
        },
        "trusted": true,
        "id": "UhsdyTREuOn0"
      },
      "execution_count": null,
      "outputs": []
    },
    {
      "cell_type": "code",
      "source": [
        "import pandas as pd\n",
        "df = pd.read_csv('/content/Project-Responses-Sheet1_1.csv')\n",
        "df.head()"
      ],
      "metadata": {
        "execution": {
          "iopub.status.busy": "2022-08-29T13:31:44.515747Z",
          "iopub.execute_input": "2022-08-29T13:31:44.516053Z",
          "iopub.status.idle": "2022-08-29T13:31:44.539096Z",
          "shell.execute_reply.started": "2022-08-29T13:31:44.516000Z",
          "shell.execute_reply": "2022-08-29T13:31:44.538367Z"
        },
        "trusted": true,
        "colab": {
          "base_uri": "https://localhost:8080/",
          "height": 268
        },
        "id": "zHFu8_psuOn7",
        "outputId": "4eb03b98-f725-4ad7-e256-0ade91367c5a"
      },
      "execution_count": null,
      "outputs": [
        {
          "output_type": "execute_result",
          "data": {
            "text/plain": [
              "  کراچی میں اومی کرون ویرینٹ کے کیس سامنے آنے پر گلشن اقبال بلاک 7 میں اسمارٹ لاک ڈاؤن نافذ کردیا گیا۔   اچھا اقدام\n",
              "0  وفاقی وزیر اسد عمر کا کہنا ہے کہ پاکستان میں ک...                                                               \n",
              "1  وفاقی ماہرین صحت کا کہنا ہے کہ پاکستان میں کور...                                                               \n",
              "2  وفاقی وزیر برائے منصوبہ بندی و این سی او سی کے...                                                               \n",
              "3  ترجمان سندھ حکومت اور ایڈمنسٹریٹر کراچی مرتضیٰ...                                                               \n",
              "4  سندھ بھر میں عالمی وباء کورونا وائرس سے بچاؤ ...                                                               "
            ],
            "text/html": [
              "\n",
              "  <div id=\"df-77ebc99e-0b07-48b4-bf15-2f5f1911259b\">\n",
              "    <div class=\"colab-df-container\">\n",
              "      <div>\n",
              "<style scoped>\n",
              "    .dataframe tbody tr th:only-of-type {\n",
              "        vertical-align: middle;\n",
              "    }\n",
              "\n",
              "    .dataframe tbody tr th {\n",
              "        vertical-align: top;\n",
              "    }\n",
              "\n",
              "    .dataframe thead th {\n",
              "        text-align: right;\n",
              "    }\n",
              "</style>\n",
              "<table border=\"1\" class=\"dataframe\">\n",
              "  <thead>\n",
              "    <tr style=\"text-align: right;\">\n",
              "      <th></th>\n",
              "      <th>کراچی میں اومی کرون ویرینٹ کے کیس سامنے آنے پر گلشن اقبال بلاک 7 میں اسمارٹ لاک ڈاؤن نافذ کردیا گیا۔   اچھا اقدام</th>\n",
              "    </tr>\n",
              "  </thead>\n",
              "  <tbody>\n",
              "    <tr>\n",
              "      <th>0</th>\n",
              "      <td>وفاقی وزیر اسد عمر کا کہنا ہے کہ پاکستان میں ک...</td>\n",
              "    </tr>\n",
              "    <tr>\n",
              "      <th>1</th>\n",
              "      <td>وفاقی ماہرین صحت کا کہنا ہے کہ پاکستان میں کور...</td>\n",
              "    </tr>\n",
              "    <tr>\n",
              "      <th>2</th>\n",
              "      <td>وفاقی وزیر برائے منصوبہ بندی و این سی او سی کے...</td>\n",
              "    </tr>\n",
              "    <tr>\n",
              "      <th>3</th>\n",
              "      <td>ترجمان سندھ حکومت اور ایڈمنسٹریٹر کراچی مرتضیٰ...</td>\n",
              "    </tr>\n",
              "    <tr>\n",
              "      <th>4</th>\n",
              "      <td>سندھ بھر میں عالمی وباء کورونا وائرس سے بچاؤ ...</td>\n",
              "    </tr>\n",
              "  </tbody>\n",
              "</table>\n",
              "</div>\n",
              "      <button class=\"colab-df-convert\" onclick=\"convertToInteractive('df-77ebc99e-0b07-48b4-bf15-2f5f1911259b')\"\n",
              "              title=\"Convert this dataframe to an interactive table.\"\n",
              "              style=\"display:none;\">\n",
              "        \n",
              "  <svg xmlns=\"http://www.w3.org/2000/svg\" height=\"24px\"viewBox=\"0 0 24 24\"\n",
              "       width=\"24px\">\n",
              "    <path d=\"M0 0h24v24H0V0z\" fill=\"none\"/>\n",
              "    <path d=\"M18.56 5.44l.94 2.06.94-2.06 2.06-.94-2.06-.94-.94-2.06-.94 2.06-2.06.94zm-11 1L8.5 8.5l.94-2.06 2.06-.94-2.06-.94L8.5 2.5l-.94 2.06-2.06.94zm10 10l.94 2.06.94-2.06 2.06-.94-2.06-.94-.94-2.06-.94 2.06-2.06.94z\"/><path d=\"M17.41 7.96l-1.37-1.37c-.4-.4-.92-.59-1.43-.59-.52 0-1.04.2-1.43.59L10.3 9.45l-7.72 7.72c-.78.78-.78 2.05 0 2.83L4 21.41c.39.39.9.59 1.41.59.51 0 1.02-.2 1.41-.59l7.78-7.78 2.81-2.81c.8-.78.8-2.07 0-2.86zM5.41 20L4 18.59l7.72-7.72 1.47 1.35L5.41 20z\"/>\n",
              "  </svg>\n",
              "      </button>\n",
              "      \n",
              "  <style>\n",
              "    .colab-df-container {\n",
              "      display:flex;\n",
              "      flex-wrap:wrap;\n",
              "      gap: 12px;\n",
              "    }\n",
              "\n",
              "    .colab-df-convert {\n",
              "      background-color: #E8F0FE;\n",
              "      border: none;\n",
              "      border-radius: 50%;\n",
              "      cursor: pointer;\n",
              "      display: none;\n",
              "      fill: #1967D2;\n",
              "      height: 32px;\n",
              "      padding: 0 0 0 0;\n",
              "      width: 32px;\n",
              "    }\n",
              "\n",
              "    .colab-df-convert:hover {\n",
              "      background-color: #E2EBFA;\n",
              "      box-shadow: 0px 1px 2px rgba(60, 64, 67, 0.3), 0px 1px 3px 1px rgba(60, 64, 67, 0.15);\n",
              "      fill: #174EA6;\n",
              "    }\n",
              "\n",
              "    [theme=dark] .colab-df-convert {\n",
              "      background-color: #3B4455;\n",
              "      fill: #D2E3FC;\n",
              "    }\n",
              "\n",
              "    [theme=dark] .colab-df-convert:hover {\n",
              "      background-color: #434B5C;\n",
              "      box-shadow: 0px 1px 3px 1px rgba(0, 0, 0, 0.15);\n",
              "      filter: drop-shadow(0px 1px 2px rgba(0, 0, 0, 0.3));\n",
              "      fill: #FFFFFF;\n",
              "    }\n",
              "  </style>\n",
              "\n",
              "      <script>\n",
              "        const buttonEl =\n",
              "          document.querySelector('#df-77ebc99e-0b07-48b4-bf15-2f5f1911259b button.colab-df-convert');\n",
              "        buttonEl.style.display =\n",
              "          google.colab.kernel.accessAllowed ? 'block' : 'none';\n",
              "\n",
              "        async function convertToInteractive(key) {\n",
              "          const element = document.querySelector('#df-77ebc99e-0b07-48b4-bf15-2f5f1911259b');\n",
              "          const dataTable =\n",
              "            await google.colab.kernel.invokeFunction('convertToInteractive',\n",
              "                                                     [key], {});\n",
              "          if (!dataTable) return;\n",
              "\n",
              "          const docLinkHtml = 'Like what you see? Visit the ' +\n",
              "            '<a target=\"_blank\" href=https://colab.research.google.com/notebooks/data_table.ipynb>data table notebook</a>'\n",
              "            + ' to learn more about interactive tables.';\n",
              "          element.innerHTML = '';\n",
              "          dataTable['output_type'] = 'display_data';\n",
              "          await google.colab.output.renderOutput(dataTable, element);\n",
              "          const docLink = document.createElement('div');\n",
              "          docLink.innerHTML = docLinkHtml;\n",
              "          element.appendChild(docLink);\n",
              "        }\n",
              "      </script>\n",
              "    </div>\n",
              "  </div>\n",
              "  "
            ]
          },
          "metadata": {},
          "execution_count": 7
        }
      ]
    },
    {
      "cell_type": "code",
      "source": [
        "df = pd.read_csv(\"/content/Project-Responses-Sheet1_1.csv\", sep='   ',names = [\"Headlines\", \"Tag\"])"
      ],
      "metadata": {
        "execution": {
          "iopub.status.busy": "2022-08-29T13:31:49.629789Z",
          "iopub.execute_input": "2022-08-29T13:31:49.630091Z",
          "iopub.status.idle": "2022-08-29T13:31:49.642697Z",
          "shell.execute_reply.started": "2022-08-29T13:31:49.630036Z",
          "shell.execute_reply": "2022-08-29T13:31:49.641908Z"
        },
        "trusted": true,
        "id": "vyCa1JMluOn8",
        "colab": {
          "base_uri": "https://localhost:8080/"
        },
        "outputId": "f2e67ebf-07d3-4970-b926-3db6d4e5015a"
      },
      "execution_count": null,
      "outputs": [
        {
          "output_type": "stream",
          "name": "stderr",
          "text": [
            "/usr/local/lib/python3.8/dist-packages/pandas/util/_decorators.py:311: ParserWarning: Falling back to the 'python' engine because the 'c' engine does not support regex separators (separators > 1 char and different from '\\s+' are interpreted as regex); you can avoid this warning by specifying engine='python'.\n",
            "  return func(*args, **kwargs)\n"
          ]
        }
      ]
    },
    {
      "cell_type": "code",
      "source": [
        "df.head()"
      ],
      "metadata": {
        "execution": {
          "iopub.status.busy": "2022-08-29T13:31:51.606163Z",
          "iopub.execute_input": "2022-08-29T13:31:51.606835Z",
          "iopub.status.idle": "2022-08-29T13:31:51.632048Z",
          "shell.execute_reply.started": "2022-08-29T13:31:51.606769Z",
          "shell.execute_reply": "2022-08-29T13:31:51.631134Z"
        },
        "trusted": true,
        "id": "lcxYj59NuOn9",
        "colab": {
          "base_uri": "https://localhost:8080/",
          "height": 206
        },
        "outputId": "1cff8dc4-898e-402d-cd03-42476ce4d30e"
      },
      "execution_count": null,
      "outputs": [
        {
          "output_type": "execute_result",
          "data": {
            "text/plain": [
              "                                           Headlines          Tag\n",
              "0  \"کراچی میں اومی کرون ویرینٹ کے کیس سامنے آنے پ...  اچھا اقدام\"\n",
              "1  \"وفاقی وزیر اسد عمر کا کہنا ہے کہ پاکستان میں ...  ٹھیک اقدام\"\n",
              "2  \"وفاقی ماہرین صحت کا کہنا ہے کہ پاکستان میں کو...  ٹھیک اقدام\"\n",
              "3  \"وفاقی وزیر برائے منصوبہ بندی و این سی او سی ک...  بُرا اقدام\"\n",
              "4  \"ترجمان سندھ حکومت اور ایڈمنسٹریٹر کراچی مرتضی...  ٹھیک اقدام\""
            ],
            "text/html": [
              "\n",
              "  <div id=\"df-b10417cd-57c0-4a11-a2e2-6bf31c9e299a\">\n",
              "    <div class=\"colab-df-container\">\n",
              "      <div>\n",
              "<style scoped>\n",
              "    .dataframe tbody tr th:only-of-type {\n",
              "        vertical-align: middle;\n",
              "    }\n",
              "\n",
              "    .dataframe tbody tr th {\n",
              "        vertical-align: top;\n",
              "    }\n",
              "\n",
              "    .dataframe thead th {\n",
              "        text-align: right;\n",
              "    }\n",
              "</style>\n",
              "<table border=\"1\" class=\"dataframe\">\n",
              "  <thead>\n",
              "    <tr style=\"text-align: right;\">\n",
              "      <th></th>\n",
              "      <th>Headlines</th>\n",
              "      <th>Tag</th>\n",
              "    </tr>\n",
              "  </thead>\n",
              "  <tbody>\n",
              "    <tr>\n",
              "      <th>0</th>\n",
              "      <td>\"کراچی میں اومی کرون ویرینٹ کے کیس سامنے آنے پ...</td>\n",
              "      <td>اچھا اقدام\"</td>\n",
              "    </tr>\n",
              "    <tr>\n",
              "      <th>1</th>\n",
              "      <td>\"وفاقی وزیر اسد عمر کا کہنا ہے کہ پاکستان میں ...</td>\n",
              "      <td>ٹھیک اقدام\"</td>\n",
              "    </tr>\n",
              "    <tr>\n",
              "      <th>2</th>\n",
              "      <td>\"وفاقی ماہرین صحت کا کہنا ہے کہ پاکستان میں کو...</td>\n",
              "      <td>ٹھیک اقدام\"</td>\n",
              "    </tr>\n",
              "    <tr>\n",
              "      <th>3</th>\n",
              "      <td>\"وفاقی وزیر برائے منصوبہ بندی و این سی او سی ک...</td>\n",
              "      <td>بُرا اقدام\"</td>\n",
              "    </tr>\n",
              "    <tr>\n",
              "      <th>4</th>\n",
              "      <td>\"ترجمان سندھ حکومت اور ایڈمنسٹریٹر کراچی مرتضی...</td>\n",
              "      <td>ٹھیک اقدام\"</td>\n",
              "    </tr>\n",
              "  </tbody>\n",
              "</table>\n",
              "</div>\n",
              "      <button class=\"colab-df-convert\" onclick=\"convertToInteractive('df-b10417cd-57c0-4a11-a2e2-6bf31c9e299a')\"\n",
              "              title=\"Convert this dataframe to an interactive table.\"\n",
              "              style=\"display:none;\">\n",
              "        \n",
              "  <svg xmlns=\"http://www.w3.org/2000/svg\" height=\"24px\"viewBox=\"0 0 24 24\"\n",
              "       width=\"24px\">\n",
              "    <path d=\"M0 0h24v24H0V0z\" fill=\"none\"/>\n",
              "    <path d=\"M18.56 5.44l.94 2.06.94-2.06 2.06-.94-2.06-.94-.94-2.06-.94 2.06-2.06.94zm-11 1L8.5 8.5l.94-2.06 2.06-.94-2.06-.94L8.5 2.5l-.94 2.06-2.06.94zm10 10l.94 2.06.94-2.06 2.06-.94-2.06-.94-.94-2.06-.94 2.06-2.06.94z\"/><path d=\"M17.41 7.96l-1.37-1.37c-.4-.4-.92-.59-1.43-.59-.52 0-1.04.2-1.43.59L10.3 9.45l-7.72 7.72c-.78.78-.78 2.05 0 2.83L4 21.41c.39.39.9.59 1.41.59.51 0 1.02-.2 1.41-.59l7.78-7.78 2.81-2.81c.8-.78.8-2.07 0-2.86zM5.41 20L4 18.59l7.72-7.72 1.47 1.35L5.41 20z\"/>\n",
              "  </svg>\n",
              "      </button>\n",
              "      \n",
              "  <style>\n",
              "    .colab-df-container {\n",
              "      display:flex;\n",
              "      flex-wrap:wrap;\n",
              "      gap: 12px;\n",
              "    }\n",
              "\n",
              "    .colab-df-convert {\n",
              "      background-color: #E8F0FE;\n",
              "      border: none;\n",
              "      border-radius: 50%;\n",
              "      cursor: pointer;\n",
              "      display: none;\n",
              "      fill: #1967D2;\n",
              "      height: 32px;\n",
              "      padding: 0 0 0 0;\n",
              "      width: 32px;\n",
              "    }\n",
              "\n",
              "    .colab-df-convert:hover {\n",
              "      background-color: #E2EBFA;\n",
              "      box-shadow: 0px 1px 2px rgba(60, 64, 67, 0.3), 0px 1px 3px 1px rgba(60, 64, 67, 0.15);\n",
              "      fill: #174EA6;\n",
              "    }\n",
              "\n",
              "    [theme=dark] .colab-df-convert {\n",
              "      background-color: #3B4455;\n",
              "      fill: #D2E3FC;\n",
              "    }\n",
              "\n",
              "    [theme=dark] .colab-df-convert:hover {\n",
              "      background-color: #434B5C;\n",
              "      box-shadow: 0px 1px 3px 1px rgba(0, 0, 0, 0.15);\n",
              "      filter: drop-shadow(0px 1px 2px rgba(0, 0, 0, 0.3));\n",
              "      fill: #FFFFFF;\n",
              "    }\n",
              "  </style>\n",
              "\n",
              "      <script>\n",
              "        const buttonEl =\n",
              "          document.querySelector('#df-b10417cd-57c0-4a11-a2e2-6bf31c9e299a button.colab-df-convert');\n",
              "        buttonEl.style.display =\n",
              "          google.colab.kernel.accessAllowed ? 'block' : 'none';\n",
              "\n",
              "        async function convertToInteractive(key) {\n",
              "          const element = document.querySelector('#df-b10417cd-57c0-4a11-a2e2-6bf31c9e299a');\n",
              "          const dataTable =\n",
              "            await google.colab.kernel.invokeFunction('convertToInteractive',\n",
              "                                                     [key], {});\n",
              "          if (!dataTable) return;\n",
              "\n",
              "          const docLinkHtml = 'Like what you see? Visit the ' +\n",
              "            '<a target=\"_blank\" href=https://colab.research.google.com/notebooks/data_table.ipynb>data table notebook</a>'\n",
              "            + ' to learn more about interactive tables.';\n",
              "          element.innerHTML = '';\n",
              "          dataTable['output_type'] = 'display_data';\n",
              "          await google.colab.output.renderOutput(dataTable, element);\n",
              "          const docLink = document.createElement('div');\n",
              "          docLink.innerHTML = docLinkHtml;\n",
              "          element.appendChild(docLink);\n",
              "        }\n",
              "      </script>\n",
              "    </div>\n",
              "  </div>\n",
              "  "
            ]
          },
          "metadata": {},
          "execution_count": 9
        }
      ]
    },
    {
      "cell_type": "code",
      "source": [
        "# Associate Category names with numerical index and save it in new column category_id\n",
        "df['category_id'] = df['Tag'].factorize()[0]\n",
        "\n",
        "#View first 10 entries of category_id, as a sanity check\n",
        "df['category_id'][0:10]\n"
      ],
      "metadata": {
        "execution": {
          "iopub.status.busy": "2022-08-29T13:35:01.069127Z",
          "iopub.execute_input": "2022-08-29T13:35:01.069445Z",
          "iopub.status.idle": "2022-08-29T13:35:01.080229Z",
          "shell.execute_reply.started": "2022-08-29T13:35:01.069391Z",
          "shell.execute_reply": "2022-08-29T13:35:01.079174Z"
        },
        "trusted": true,
        "colab": {
          "base_uri": "https://localhost:8080/"
        },
        "id": "W7rhm1C0uOn-",
        "outputId": "439e3f8b-7265-4ff8-a382-3eff5a064032"
      },
      "execution_count": null,
      "outputs": [
        {
          "output_type": "execute_result",
          "data": {
            "text/plain": [
              "0    0\n",
              "1    1\n",
              "2    1\n",
              "3    2\n",
              "4    1\n",
              "5    0\n",
              "6    0\n",
              "7    1\n",
              "8    0\n",
              "9    1\n",
              "Name: category_id, dtype: int64"
            ]
          },
          "metadata": {},
          "execution_count": 10
        }
      ]
    },
    {
      "cell_type": "code",
      "source": [
        "category_id_df = df[['Tag', 'category_id']].drop_duplicates().sort_values('category_id')"
      ],
      "metadata": {
        "execution": {
          "iopub.status.busy": "2022-08-29T13:35:04.781682Z",
          "iopub.execute_input": "2022-08-29T13:35:04.781973Z",
          "iopub.status.idle": "2022-08-29T13:35:04.791101Z",
          "shell.execute_reply.started": "2022-08-29T13:35:04.781922Z",
          "shell.execute_reply": "2022-08-29T13:35:04.790203Z"
        },
        "trusted": true,
        "id": "epzzJMYJuOn_"
      },
      "execution_count": null,
      "outputs": []
    },
    {
      "cell_type": "code",
      "source": [
        "category_id_df"
      ],
      "metadata": {
        "execution": {
          "iopub.status.busy": "2022-08-29T13:35:06.179445Z",
          "iopub.execute_input": "2022-08-29T13:35:06.179736Z",
          "iopub.status.idle": "2022-08-29T13:35:06.191850Z",
          "shell.execute_reply.started": "2022-08-29T13:35:06.179684Z",
          "shell.execute_reply": "2022-08-29T13:35:06.190941Z"
        },
        "trusted": true,
        "colab": {
          "base_uri": "https://localhost:8080/",
          "height": 206
        },
        "id": "Wn245u1kuOoA",
        "outputId": "d464fb16-3f29-4d21-971d-02af2c2b413f"
      },
      "execution_count": null,
      "outputs": [
        {
          "output_type": "execute_result",
          "data": {
            "text/plain": [
              "             Tag  category_id\n",
              "0    اچھا اقدام\"            0\n",
              "1    ٹھیک اقدام\"            1\n",
              "3    بُرا اقدام\"            2\n",
              "34    برا اقدام\"            3\n",
              "64   اچھا اقدام\"            4"
            ],
            "text/html": [
              "\n",
              "  <div id=\"df-e722bfff-e08b-4550-9baa-56b28bda408a\">\n",
              "    <div class=\"colab-df-container\">\n",
              "      <div>\n",
              "<style scoped>\n",
              "    .dataframe tbody tr th:only-of-type {\n",
              "        vertical-align: middle;\n",
              "    }\n",
              "\n",
              "    .dataframe tbody tr th {\n",
              "        vertical-align: top;\n",
              "    }\n",
              "\n",
              "    .dataframe thead th {\n",
              "        text-align: right;\n",
              "    }\n",
              "</style>\n",
              "<table border=\"1\" class=\"dataframe\">\n",
              "  <thead>\n",
              "    <tr style=\"text-align: right;\">\n",
              "      <th></th>\n",
              "      <th>Tag</th>\n",
              "      <th>category_id</th>\n",
              "    </tr>\n",
              "  </thead>\n",
              "  <tbody>\n",
              "    <tr>\n",
              "      <th>0</th>\n",
              "      <td>اچھا اقدام\"</td>\n",
              "      <td>0</td>\n",
              "    </tr>\n",
              "    <tr>\n",
              "      <th>1</th>\n",
              "      <td>ٹھیک اقدام\"</td>\n",
              "      <td>1</td>\n",
              "    </tr>\n",
              "    <tr>\n",
              "      <th>3</th>\n",
              "      <td>بُرا اقدام\"</td>\n",
              "      <td>2</td>\n",
              "    </tr>\n",
              "    <tr>\n",
              "      <th>34</th>\n",
              "      <td>برا اقدام\"</td>\n",
              "      <td>3</td>\n",
              "    </tr>\n",
              "    <tr>\n",
              "      <th>64</th>\n",
              "      <td>اچھا اقدام\"</td>\n",
              "      <td>4</td>\n",
              "    </tr>\n",
              "  </tbody>\n",
              "</table>\n",
              "</div>\n",
              "      <button class=\"colab-df-convert\" onclick=\"convertToInteractive('df-e722bfff-e08b-4550-9baa-56b28bda408a')\"\n",
              "              title=\"Convert this dataframe to an interactive table.\"\n",
              "              style=\"display:none;\">\n",
              "        \n",
              "  <svg xmlns=\"http://www.w3.org/2000/svg\" height=\"24px\"viewBox=\"0 0 24 24\"\n",
              "       width=\"24px\">\n",
              "    <path d=\"M0 0h24v24H0V0z\" fill=\"none\"/>\n",
              "    <path d=\"M18.56 5.44l.94 2.06.94-2.06 2.06-.94-2.06-.94-.94-2.06-.94 2.06-2.06.94zm-11 1L8.5 8.5l.94-2.06 2.06-.94-2.06-.94L8.5 2.5l-.94 2.06-2.06.94zm10 10l.94 2.06.94-2.06 2.06-.94-2.06-.94-.94-2.06-.94 2.06-2.06.94z\"/><path d=\"M17.41 7.96l-1.37-1.37c-.4-.4-.92-.59-1.43-.59-.52 0-1.04.2-1.43.59L10.3 9.45l-7.72 7.72c-.78.78-.78 2.05 0 2.83L4 21.41c.39.39.9.59 1.41.59.51 0 1.02-.2 1.41-.59l7.78-7.78 2.81-2.81c.8-.78.8-2.07 0-2.86zM5.41 20L4 18.59l7.72-7.72 1.47 1.35L5.41 20z\"/>\n",
              "  </svg>\n",
              "      </button>\n",
              "      \n",
              "  <style>\n",
              "    .colab-df-container {\n",
              "      display:flex;\n",
              "      flex-wrap:wrap;\n",
              "      gap: 12px;\n",
              "    }\n",
              "\n",
              "    .colab-df-convert {\n",
              "      background-color: #E8F0FE;\n",
              "      border: none;\n",
              "      border-radius: 50%;\n",
              "      cursor: pointer;\n",
              "      display: none;\n",
              "      fill: #1967D2;\n",
              "      height: 32px;\n",
              "      padding: 0 0 0 0;\n",
              "      width: 32px;\n",
              "    }\n",
              "\n",
              "    .colab-df-convert:hover {\n",
              "      background-color: #E2EBFA;\n",
              "      box-shadow: 0px 1px 2px rgba(60, 64, 67, 0.3), 0px 1px 3px 1px rgba(60, 64, 67, 0.15);\n",
              "      fill: #174EA6;\n",
              "    }\n",
              "\n",
              "    [theme=dark] .colab-df-convert {\n",
              "      background-color: #3B4455;\n",
              "      fill: #D2E3FC;\n",
              "    }\n",
              "\n",
              "    [theme=dark] .colab-df-convert:hover {\n",
              "      background-color: #434B5C;\n",
              "      box-shadow: 0px 1px 3px 1px rgba(0, 0, 0, 0.15);\n",
              "      filter: drop-shadow(0px 1px 2px rgba(0, 0, 0, 0.3));\n",
              "      fill: #FFFFFF;\n",
              "    }\n",
              "  </style>\n",
              "\n",
              "      <script>\n",
              "        const buttonEl =\n",
              "          document.querySelector('#df-e722bfff-e08b-4550-9baa-56b28bda408a button.colab-df-convert');\n",
              "        buttonEl.style.display =\n",
              "          google.colab.kernel.accessAllowed ? 'block' : 'none';\n",
              "\n",
              "        async function convertToInteractive(key) {\n",
              "          const element = document.querySelector('#df-e722bfff-e08b-4550-9baa-56b28bda408a');\n",
              "          const dataTable =\n",
              "            await google.colab.kernel.invokeFunction('convertToInteractive',\n",
              "                                                     [key], {});\n",
              "          if (!dataTable) return;\n",
              "\n",
              "          const docLinkHtml = 'Like what you see? Visit the ' +\n",
              "            '<a target=\"_blank\" href=https://colab.research.google.com/notebooks/data_table.ipynb>data table notebook</a>'\n",
              "            + ' to learn more about interactive tables.';\n",
              "          element.innerHTML = '';\n",
              "          dataTable['output_type'] = 'display_data';\n",
              "          await google.colab.output.renderOutput(dataTable, element);\n",
              "          const docLink = document.createElement('div');\n",
              "          docLink.innerHTML = docLinkHtml;\n",
              "          element.appendChild(docLink);\n",
              "        }\n",
              "      </script>\n",
              "    </div>\n",
              "  </div>\n",
              "  "
            ]
          },
          "metadata": {},
          "execution_count": 12
        }
      ]
    },
    {
      "cell_type": "code",
      "source": [
        "category_to_id = dict(category_id_df.values)\n",
        "\n",
        "id_to_category = dict(category_id_df[['category_id','Tag']].values)\n"
      ],
      "metadata": {
        "execution": {
          "iopub.status.busy": "2022-08-29T13:35:10.064400Z",
          "iopub.execute_input": "2022-08-29T13:35:10.064692Z",
          "iopub.status.idle": "2022-08-29T13:35:10.071336Z",
          "shell.execute_reply.started": "2022-08-29T13:35:10.064640Z",
          "shell.execute_reply": "2022-08-29T13:35:10.070547Z"
        },
        "trusted": true,
        "id": "918ntA4quOoB"
      },
      "execution_count": null,
      "outputs": []
    },
    {
      "cell_type": "code",
      "source": [
        "id_to_category"
      ],
      "metadata": {
        "execution": {
          "iopub.status.busy": "2022-08-29T13:35:12.207010Z",
          "iopub.execute_input": "2022-08-29T13:35:12.207327Z",
          "iopub.status.idle": "2022-08-29T13:35:12.214625Z",
          "shell.execute_reply.started": "2022-08-29T13:35:12.207251Z",
          "shell.execute_reply": "2022-08-29T13:35:12.213564Z"
        },
        "trusted": true,
        "colab": {
          "base_uri": "https://localhost:8080/"
        },
        "id": "YCbErp7SuOoD",
        "outputId": "ef13a91a-b7e3-4920-9d5e-c604ae21b7cd"
      },
      "execution_count": null,
      "outputs": [
        {
          "output_type": "execute_result",
          "data": {
            "text/plain": [
              "{0: 'اچھا اقدام\"',\n",
              " 1: 'ٹھیک اقدام\"',\n",
              " 2: 'بُرا اقدام\"',\n",
              " 3: 'برا اقدام\"',\n",
              " 4: ' اچھا اقدام\"'}"
            ]
          },
          "metadata": {},
          "execution_count": 14
        }
      ]
    },
    {
      "cell_type": "code",
      "source": [
        "df.sample(5, random_state=0)"
      ],
      "metadata": {
        "execution": {
          "iopub.status.busy": "2022-08-29T13:35:14.727402Z",
          "iopub.execute_input": "2022-08-29T13:35:14.727748Z",
          "iopub.status.idle": "2022-08-29T13:35:14.739496Z",
          "shell.execute_reply.started": "2022-08-29T13:35:14.727686Z",
          "shell.execute_reply": "2022-08-29T13:35:14.738432Z"
        },
        "trusted": true,
        "colab": {
          "base_uri": "https://localhost:8080/",
          "height": 206
        },
        "id": "oYGdnHy1uOoE",
        "outputId": "788f31b8-1d69-42dd-d25b-57d5ee8ef826"
      },
      "execution_count": null,
      "outputs": [
        {
          "output_type": "execute_result",
          "data": {
            "text/plain": [
              "                                             Headlines          Tag  \\\n",
              "18   \"ترجمان وزارت صحت کا کہنا ہے کہ عازمین حج کی س...  اچھا اقدام\"   \n",
              "170  \"ترجمان سندھ حکومت مرتضیٰ وہاب نے کہا ہے کہ کر...  ٹھیک اقدام\"   \n",
              "107  \"ملتان میں مسافر بسوں اور وینز میں بغیر کورونا...  اچھا اقدام\"   \n",
              "98   \"نیشنل کمانڈ اینڈ آپریشن سینٹر (این سی او سی)...  ٹھیک اقدام\"   \n",
              "177  \"نیشنل کمانڈ اینڈ آپریشنز سینٹر (این سی او سی...  ٹھیک اقدام\"   \n",
              "\n",
              "     category_id  \n",
              "18             0  \n",
              "170            1  \n",
              "107            0  \n",
              "98             1  \n",
              "177            1  "
            ],
            "text/html": [
              "\n",
              "  <div id=\"df-a98a3263-f19c-4979-a522-491d06de3c4b\">\n",
              "    <div class=\"colab-df-container\">\n",
              "      <div>\n",
              "<style scoped>\n",
              "    .dataframe tbody tr th:only-of-type {\n",
              "        vertical-align: middle;\n",
              "    }\n",
              "\n",
              "    .dataframe tbody tr th {\n",
              "        vertical-align: top;\n",
              "    }\n",
              "\n",
              "    .dataframe thead th {\n",
              "        text-align: right;\n",
              "    }\n",
              "</style>\n",
              "<table border=\"1\" class=\"dataframe\">\n",
              "  <thead>\n",
              "    <tr style=\"text-align: right;\">\n",
              "      <th></th>\n",
              "      <th>Headlines</th>\n",
              "      <th>Tag</th>\n",
              "      <th>category_id</th>\n",
              "    </tr>\n",
              "  </thead>\n",
              "  <tbody>\n",
              "    <tr>\n",
              "      <th>18</th>\n",
              "      <td>\"ترجمان وزارت صحت کا کہنا ہے کہ عازمین حج کی س...</td>\n",
              "      <td>اچھا اقدام\"</td>\n",
              "      <td>0</td>\n",
              "    </tr>\n",
              "    <tr>\n",
              "      <th>170</th>\n",
              "      <td>\"ترجمان سندھ حکومت مرتضیٰ وہاب نے کہا ہے کہ کر...</td>\n",
              "      <td>ٹھیک اقدام\"</td>\n",
              "      <td>1</td>\n",
              "    </tr>\n",
              "    <tr>\n",
              "      <th>107</th>\n",
              "      <td>\"ملتان میں مسافر بسوں اور وینز میں بغیر کورونا...</td>\n",
              "      <td>اچھا اقدام\"</td>\n",
              "      <td>0</td>\n",
              "    </tr>\n",
              "    <tr>\n",
              "      <th>98</th>\n",
              "      <td>\"نیشنل کمانڈ اینڈ آپریشن سینٹر (این سی او سی)...</td>\n",
              "      <td>ٹھیک اقدام\"</td>\n",
              "      <td>1</td>\n",
              "    </tr>\n",
              "    <tr>\n",
              "      <th>177</th>\n",
              "      <td>\"نیشنل کمانڈ اینڈ آپریشنز سینٹر (این سی او سی...</td>\n",
              "      <td>ٹھیک اقدام\"</td>\n",
              "      <td>1</td>\n",
              "    </tr>\n",
              "  </tbody>\n",
              "</table>\n",
              "</div>\n",
              "      <button class=\"colab-df-convert\" onclick=\"convertToInteractive('df-a98a3263-f19c-4979-a522-491d06de3c4b')\"\n",
              "              title=\"Convert this dataframe to an interactive table.\"\n",
              "              style=\"display:none;\">\n",
              "        \n",
              "  <svg xmlns=\"http://www.w3.org/2000/svg\" height=\"24px\"viewBox=\"0 0 24 24\"\n",
              "       width=\"24px\">\n",
              "    <path d=\"M0 0h24v24H0V0z\" fill=\"none\"/>\n",
              "    <path d=\"M18.56 5.44l.94 2.06.94-2.06 2.06-.94-2.06-.94-.94-2.06-.94 2.06-2.06.94zm-11 1L8.5 8.5l.94-2.06 2.06-.94-2.06-.94L8.5 2.5l-.94 2.06-2.06.94zm10 10l.94 2.06.94-2.06 2.06-.94-2.06-.94-.94-2.06-.94 2.06-2.06.94z\"/><path d=\"M17.41 7.96l-1.37-1.37c-.4-.4-.92-.59-1.43-.59-.52 0-1.04.2-1.43.59L10.3 9.45l-7.72 7.72c-.78.78-.78 2.05 0 2.83L4 21.41c.39.39.9.59 1.41.59.51 0 1.02-.2 1.41-.59l7.78-7.78 2.81-2.81c.8-.78.8-2.07 0-2.86zM5.41 20L4 18.59l7.72-7.72 1.47 1.35L5.41 20z\"/>\n",
              "  </svg>\n",
              "      </button>\n",
              "      \n",
              "  <style>\n",
              "    .colab-df-container {\n",
              "      display:flex;\n",
              "      flex-wrap:wrap;\n",
              "      gap: 12px;\n",
              "    }\n",
              "\n",
              "    .colab-df-convert {\n",
              "      background-color: #E8F0FE;\n",
              "      border: none;\n",
              "      border-radius: 50%;\n",
              "      cursor: pointer;\n",
              "      display: none;\n",
              "      fill: #1967D2;\n",
              "      height: 32px;\n",
              "      padding: 0 0 0 0;\n",
              "      width: 32px;\n",
              "    }\n",
              "\n",
              "    .colab-df-convert:hover {\n",
              "      background-color: #E2EBFA;\n",
              "      box-shadow: 0px 1px 2px rgba(60, 64, 67, 0.3), 0px 1px 3px 1px rgba(60, 64, 67, 0.15);\n",
              "      fill: #174EA6;\n",
              "    }\n",
              "\n",
              "    [theme=dark] .colab-df-convert {\n",
              "      background-color: #3B4455;\n",
              "      fill: #D2E3FC;\n",
              "    }\n",
              "\n",
              "    [theme=dark] .colab-df-convert:hover {\n",
              "      background-color: #434B5C;\n",
              "      box-shadow: 0px 1px 3px 1px rgba(0, 0, 0, 0.15);\n",
              "      filter: drop-shadow(0px 1px 2px rgba(0, 0, 0, 0.3));\n",
              "      fill: #FFFFFF;\n",
              "    }\n",
              "  </style>\n",
              "\n",
              "      <script>\n",
              "        const buttonEl =\n",
              "          document.querySelector('#df-a98a3263-f19c-4979-a522-491d06de3c4b button.colab-df-convert');\n",
              "        buttonEl.style.display =\n",
              "          google.colab.kernel.accessAllowed ? 'block' : 'none';\n",
              "\n",
              "        async function convertToInteractive(key) {\n",
              "          const element = document.querySelector('#df-a98a3263-f19c-4979-a522-491d06de3c4b');\n",
              "          const dataTable =\n",
              "            await google.colab.kernel.invokeFunction('convertToInteractive',\n",
              "                                                     [key], {});\n",
              "          if (!dataTable) return;\n",
              "\n",
              "          const docLinkHtml = 'Like what you see? Visit the ' +\n",
              "            '<a target=\"_blank\" href=https://colab.research.google.com/notebooks/data_table.ipynb>data table notebook</a>'\n",
              "            + ' to learn more about interactive tables.';\n",
              "          element.innerHTML = '';\n",
              "          dataTable['output_type'] = 'display_data';\n",
              "          await google.colab.output.renderOutput(dataTable, element);\n",
              "          const docLink = document.createElement('div');\n",
              "          docLink.innerHTML = docLinkHtml;\n",
              "          element.appendChild(docLink);\n",
              "        }\n",
              "      </script>\n",
              "    </div>\n",
              "  </div>\n",
              "  "
            ]
          },
          "metadata": {},
          "execution_count": 15
        }
      ]
    },
    {
      "cell_type": "code",
      "source": [
        "df.groupby('Tag').category_id.count()"
      ],
      "metadata": {
        "execution": {
          "iopub.status.busy": "2022-08-29T13:35:17.317803Z",
          "iopub.execute_input": "2022-08-29T13:35:17.318159Z",
          "iopub.status.idle": "2022-08-29T13:35:17.327254Z",
          "shell.execute_reply.started": "2022-08-29T13:35:17.318098Z",
          "shell.execute_reply": "2022-08-29T13:35:17.326356Z"
        },
        "trusted": true,
        "colab": {
          "base_uri": "https://localhost:8080/"
        },
        "id": "Y-IcKddJuOoE",
        "outputId": "f521680d-f001-4eed-d151-cd9ee988f745"
      },
      "execution_count": null,
      "outputs": [
        {
          "output_type": "execute_result",
          "data": {
            "text/plain": [
              "Tag\n",
              " اچھا اقدام\"      1\n",
              "اچھا اقدام\"     112\n",
              "برا اقدام\"       19\n",
              "بُرا اقدام\"       5\n",
              "ٹھیک اقدام\"      63\n",
              "Name: category_id, dtype: int64"
            ]
          },
          "metadata": {},
          "execution_count": 16
        }
      ]
    },
    {
      "cell_type": "code",
      "source": [
        "import matplotlib.pyplot as plt\n",
        "fig = plt.figure(figsize=(8,6))\n",
        "df.groupby('Tag').count().plot.bar(ylim=0)\n",
        "plt.show()"
      ],
      "metadata": {
        "execution": {
          "iopub.status.busy": "2022-08-29T13:35:19.664018Z",
          "iopub.execute_input": "2022-08-29T13:35:19.664362Z",
          "iopub.status.idle": "2022-08-29T13:35:19.983610Z",
          "shell.execute_reply.started": "2022-08-29T13:35:19.664290Z",
          "shell.execute_reply": "2022-08-29T13:35:19.982408Z"
        },
        "trusted": true,
        "colab": {
          "base_uri": "https://localhost:8080/",
          "height": 353
        },
        "id": "jT6SihYmuOoF",
        "outputId": "dc6ab6b1-bd47-45da-a4b8-56963c5a3e09"
      },
      "execution_count": null,
      "outputs": [
        {
          "output_type": "display_data",
          "data": {
            "text/plain": [
              "<Figure size 576x432 with 0 Axes>"
            ]
          },
          "metadata": {}
        },
        {
          "output_type": "display_data",
          "data": {
            "text/plain": [
              "<Figure size 432x288 with 1 Axes>"
            ],
            "image/png": "[encoded data removed]"
          },
          "metadata": {
            "needs_background": "light"
          }
        }
      ]
    },
    {
      "cell_type": "markdown",
      "source": [
        "# **LSTM Model**"
      ],
      "metadata": {
        "id": "iuhWUPMIuOoO"
      }
    },
    {
      "cell_type": "code",
      "source": [
        "import numpy as np\n",
        "import pandas as pd\n",
        "\n",
        "from tensorflow.keras.preprocessing.text import Tokenizer\n",
        "from tensorflow.keras.preprocessing.sequence import pad_sequences\n",
        "from tensorflow.keras.utils import to_categorical\n",
        "from tensorflow.keras import Sequential\n",
        "from tensorflow.keras.layers import LSTM, Bidirectional, Flatten, Dense, Embedding\n",
        "\n",
        "from tensorflow.keras.optimizers import Adam\n",
        "from tensorflow.keras.losses import CategoricalCrossentropy"
      ],
      "metadata": {
        "execution": {
          "iopub.status.busy": "2022-08-29T13:54:19.688991Z",
          "iopub.execute_input": "2022-08-29T13:54:19.689290Z",
          "iopub.status.idle": "2022-08-29T13:54:24.556267Z",
          "shell.execute_reply.started": "2022-08-29T13:54:19.689232Z",
          "shell.execute_reply": "2022-08-29T13:54:24.555441Z"
        },
        "trusted": true,
        "id": "QVKawRB_uOoP"
      },
      "execution_count": null,
      "outputs": []
    },
    {
      "cell_type": "code",
      "source": [
        "data = pd.read_csv('/content/urdu-sentiment-corpus-v1-2_1.csv')\n",
        "data = [x.split('   ')[1].strip() for x in data]\n",
        "data[:10]"
      ],
      "metadata": {
        "execution": {
          "iopub.status.busy": "2022-08-29T13:56:43.889507Z",
          "iopub.execute_input": "2022-08-29T13:56:43.889820Z",
          "iopub.status.idle": "2022-08-29T13:56:43.909562Z",
          "shell.execute_reply.started": "2022-08-29T13:56:43.889765Z",
          "shell.execute_reply": "2022-08-29T13:56:43.908791Z"
        },
        "trusted": true,
        "colab": {
          "base_uri": "https://localhost:8080/"
        },
        "id": "37W2oNw2uOoQ",
        "outputId": "5b48a5d7-e053-44d1-d7bd-3fc4b0b320f3"
      },
      "execution_count": null,
      "outputs": [
        {
          "output_type": "execute_result",
          "data": {
            "text/plain": [
              "['میں نے ایٹم بم بنایا ھے ۔۔۔۔او بھائی ایٹم بمب کوٹ لکھپت والی اتفاق فیکٹری میں نہیں بنتا۔ایٹم بم کہوٹہ کی ایٹمی۔۔۔']"
            ]
          },
          "metadata": {},
          "execution_count": 27
        }
      ]
    },
    {
      "cell_type": "code",
      "source": [
        "tokenizer = Tokenizer()\n",
        "tokenizer.fit_on_texts(data)\n",
        "vocab_size = len(tokenizer.word_index) + 1\n",
        "vocab_size"
      ],
      "metadata": {
        "execution": {
          "iopub.status.busy": "2022-08-29T13:57:09.509519Z",
          "iopub.execute_input": "2022-08-29T13:57:09.509860Z",
          "iopub.status.idle": "2022-08-29T13:57:09.619409Z",
          "shell.execute_reply.started": "2022-08-29T13:57:09.509816Z",
          "shell.execute_reply": "2022-08-29T13:57:09.618505Z"
        },
        "trusted": true,
        "colab": {
          "base_uri": "https://localhost:8080/"
        },
        "id": "VpAQbnkPuOoQ",
        "outputId": "091387a6-7514-4186-fe54-d790ff89a5a9"
      },
      "execution_count": null,
      "outputs": [
        {
          "output_type": "execute_result",
          "data": {
            "text/plain": [
              "20"
            ]
          },
          "metadata": {},
          "execution_count": 28
        }
      ]
    },
    {
      "cell_type": "code",
      "source": [
        "train_data = tokenizer.texts_to_sequences(data)\n",
        "training_examples = []\n",
        "labels = []\n",
        "\n",
        "for e in train_data:\n",
        "    for i in range(1, len(e)):\n",
        "        training_examples.append(e[:i])\n",
        "        labels.append(e[i])\n",
        "        \n",
        "max_len = max([len(x) for x in training_examples])\n",
        "X = pad_sequences(training_examples, maxlen=max_len)\n",
        "X"
      ],
      "metadata": {
        "execution": {
          "iopub.status.busy": "2022-08-29T13:57:16.575342Z",
          "iopub.execute_input": "2022-08-29T13:57:16.575639Z",
          "iopub.status.idle": "2022-08-29T13:57:16.854049Z",
          "shell.execute_reply.started": "2022-08-29T13:57:16.575587Z",
          "shell.execute_reply": "2022-08-29T13:57:16.853332Z"
        },
        "trusted": true,
        "colab": {
          "base_uri": "https://localhost:8080/"
        },
        "id": "sHRl2yG-uOoQ",
        "outputId": "1473571d-9256-4f47-8cd0-751a4577f696"
      },
      "execution_count": null,
      "outputs": [
        {
          "output_type": "execute_result",
          "data": {
            "text/plain": [
              "array([[ 0,  0,  0,  0,  0,  0,  0,  0,  0,  0,  0,  0,  0,  0,  0,  0,\n",
              "         0,  0,  0,  0,  1],\n",
              "       [ 0,  0,  0,  0,  0,  0,  0,  0,  0,  0,  0,  0,  0,  0,  0,  0,\n",
              "         0,  0,  0,  1,  4],\n",
              "       [ 0,  0,  0,  0,  0,  0,  0,  0,  0,  0,  0,  0,  0,  0,  0,  0,\n",
              "         0,  0,  1,  4,  2],\n",
              "       [ 0,  0,  0,  0,  0,  0,  0,  0,  0,  0,  0,  0,  0,  0,  0,  0,\n",
              "         0,  1,  4,  2,  3],\n",
              "       [ 0,  0,  0,  0,  0,  0,  0,  0,  0,  0,  0,  0,  0,  0,  0,  0,\n",
              "         1,  4,  2,  3,  5],\n",
              "       [ 0,  0,  0,  0,  0,  0,  0,  0,  0,  0,  0,  0,  0,  0,  0,  1,\n",
              "         4,  2,  3,  5,  6],\n",
              "       [ 0,  0,  0,  0,  0,  0,  0,  0,  0,  0,  0,  0,  0,  0,  1,  4,\n",
              "         2,  3,  5,  6,  7],\n",
              "       [ 0,  0,  0,  0,  0,  0,  0,  0,  0,  0,  0,  0,  0,  1,  4,  2,\n",
              "         3,  5,  6,  7,  8],\n",
              "       [ 0,  0,  0,  0,  0,  0,  0,  0,  0,  0,  0,  0,  1,  4,  2,  3,\n",
              "         5,  6,  7,  8,  2],\n",
              "       [ 0,  0,  0,  0,  0,  0,  0,  0,  0,  0,  0,  1,  4,  2,  3,  5,\n",
              "         6,  7,  8,  2,  9],\n",
              "       [ 0,  0,  0,  0,  0,  0,  0,  0,  0,  0,  1,  4,  2,  3,  5,  6,\n",
              "         7,  8,  2,  9, 10],\n",
              "       [ 0,  0,  0,  0,  0,  0,  0,  0,  0,  1,  4,  2,  3,  5,  6,  7,\n",
              "         8,  2,  9, 10, 11],\n",
              "       [ 0,  0,  0,  0,  0,  0,  0,  0,  1,  4,  2,  3,  5,  6,  7,  8,\n",
              "         2,  9, 10, 11, 12],\n",
              "       [ 0,  0,  0,  0,  0,  0,  0,  1,  4,  2,  3,  5,  6,  7,  8,  2,\n",
              "         9, 10, 11, 12, 13],\n",
              "       [ 0,  0,  0,  0,  0,  0,  1,  4,  2,  3,  5,  6,  7,  8,  2,  9,\n",
              "        10, 11, 12, 13, 14],\n",
              "       [ 0,  0,  0,  0,  0,  1,  4,  2,  3,  5,  6,  7,  8,  2,  9, 10,\n",
              "        11, 12, 13, 14,  1],\n",
              "       [ 0,  0,  0,  0,  1,  4,  2,  3,  5,  6,  7,  8,  2,  9, 10, 11,\n",
              "        12, 13, 14,  1, 15],\n",
              "       [ 0,  0,  0,  1,  4,  2,  3,  5,  6,  7,  8,  2,  9, 10, 11, 12,\n",
              "        13, 14,  1, 15, 16],\n",
              "       [ 0,  0,  1,  4,  2,  3,  5,  6,  7,  8,  2,  9, 10, 11, 12, 13,\n",
              "        14,  1, 15, 16,  3],\n",
              "       [ 0,  1,  4,  2,  3,  5,  6,  7,  8,  2,  9, 10, 11, 12, 13, 14,\n",
              "         1, 15, 16,  3, 17],\n",
              "       [ 1,  4,  2,  3,  5,  6,  7,  8,  2,  9, 10, 11, 12, 13, 14,  1,\n",
              "        15, 16,  3, 17, 18]], dtype=int32)"
            ]
          },
          "metadata": {},
          "execution_count": 29
        }
      ]
    },
    {
      "cell_type": "code",
      "source": [
        "Y = to_categorical(labels, num_classes=vocab_size)\n",
        "Y"
      ],
      "metadata": {
        "execution": {
          "iopub.status.busy": "2022-08-29T13:57:24.629922Z",
          "iopub.execute_input": "2022-08-29T13:57:24.630253Z",
          "iopub.status.idle": "2022-08-29T13:57:24.694635Z",
          "shell.execute_reply.started": "2022-08-29T13:57:24.630190Z",
          "shell.execute_reply": "2022-08-29T13:57:24.693660Z"
        },
        "trusted": true,
        "colab": {
          "base_uri": "https://localhost:8080/"
        },
        "id": "9APJ5mxduOoR",
        "outputId": "51fb7c98-c18d-4904-ed1a-0674aee0d022"
      },
      "execution_count": null,
      "outputs": [
        {
          "output_type": "execute_result",
          "data": {
            "text/plain": [
              "array([[0., 0., 0., 0., 1., 0., 0., 0., 0., 0., 0., 0., 0., 0., 0., 0.,\n",
              "        0., 0., 0., 0.],\n",
              "       [0., 0., 1., 0., 0., 0., 0., 0., 0., 0., 0., 0., 0., 0., 0., 0.,\n",
              "        0., 0., 0., 0.],\n",
              "       [0., 0., 0., 1., 0., 0., 0., 0., 0., 0., 0., 0., 0., 0., 0., 0.,\n",
              "        0., 0., 0., 0.],\n",
              "       [0., 0., 0., 0., 0., 1., 0., 0., 0., 0., 0., 0., 0., 0., 0., 0.,\n",
              "        0., 0., 0., 0.],\n",
              "       [0., 0., 0., 0., 0., 0., 1., 0., 0., 0., 0., 0., 0., 0., 0., 0.,\n",
              "        0., 0., 0., 0.],\n",
              "       [0., 0., 0., 0., 0., 0., 0., 1., 0., 0., 0., 0., 0., 0., 0., 0.,\n",
              "        0., 0., 0., 0.],\n",
              "       [0., 0., 0., 0., 0., 0., 0., 0., 1., 0., 0., 0., 0., 0., 0., 0.,\n",
              "        0., 0., 0., 0.],\n",
              "       [0., 0., 1., 0., 0., 0., 0., 0., 0., 0., 0., 0., 0., 0., 0., 0.,\n",
              "        0., 0., 0., 0.],\n",
              "       [0., 0., 0., 0., 0., 0., 0., 0., 0., 1., 0., 0., 0., 0., 0., 0.,\n",
              "        0., 0., 0., 0.],\n",
              "       [0., 0., 0., 0., 0., 0., 0., 0., 0., 0., 1., 0., 0., 0., 0., 0.,\n",
              "        0., 0., 0., 0.],\n",
              "       [0., 0., 0., 0., 0., 0., 0., 0., 0., 0., 0., 1., 0., 0., 0., 0.,\n",
              "        0., 0., 0., 0.],\n",
              "       [0., 0., 0., 0., 0., 0., 0., 0., 0., 0., 0., 0., 1., 0., 0., 0.,\n",
              "        0., 0., 0., 0.],\n",
              "       [0., 0., 0., 0., 0., 0., 0., 0., 0., 0., 0., 0., 0., 1., 0., 0.,\n",
              "        0., 0., 0., 0.],\n",
              "       [0., 0., 0., 0., 0., 0., 0., 0., 0., 0., 0., 0., 0., 0., 1., 0.,\n",
              "        0., 0., 0., 0.],\n",
              "       [0., 1., 0., 0., 0., 0., 0., 0., 0., 0., 0., 0., 0., 0., 0., 0.,\n",
              "        0., 0., 0., 0.],\n",
              "       [0., 0., 0., 0., 0., 0., 0., 0., 0., 0., 0., 0., 0., 0., 0., 1.,\n",
              "        0., 0., 0., 0.],\n",
              "       [0., 0., 0., 0., 0., 0., 0., 0., 0., 0., 0., 0., 0., 0., 0., 0.,\n",
              "        1., 0., 0., 0.],\n",
              "       [0., 0., 0., 1., 0., 0., 0., 0., 0., 0., 0., 0., 0., 0., 0., 0.,\n",
              "        0., 0., 0., 0.],\n",
              "       [0., 0., 0., 0., 0., 0., 0., 0., 0., 0., 0., 0., 0., 0., 0., 0.,\n",
              "        0., 1., 0., 0.],\n",
              "       [0., 0., 0., 0., 0., 0., 0., 0., 0., 0., 0., 0., 0., 0., 0., 0.,\n",
              "        0., 0., 1., 0.],\n",
              "       [0., 0., 0., 0., 0., 0., 0., 0., 0., 0., 0., 0., 0., 0., 0., 0.,\n",
              "        0., 0., 0., 1.]], dtype=float32)"
            ]
          },
          "metadata": {},
          "execution_count": 30
        }
      ]
    },
    {
      "cell_type": "code",
      "source": [
        "model = Sequential([\n",
        "    Embedding(vocab_size, 300),\n",
        "    Bidirectional(LSTM(20)),\n",
        "    Flatten(),\n",
        "    Dense(vocab_size, activation='softmax')\n",
        "])\n",
        "\n",
        "optim = Adam(learning_rate=0.01)\n",
        "loss = CategoricalCrossentropy()\n",
        "model.compile(optimizer=optim, loss=loss, metrics=['accuracy'])"
      ],
      "metadata": {
        "execution": {
          "iopub.status.busy": "2022-08-29T13:57:40.744888Z",
          "iopub.execute_input": "2022-08-29T13:57:40.745221Z",
          "iopub.status.idle": "2022-08-29T13:57:43.723303Z",
          "shell.execute_reply.started": "2022-08-29T13:57:40.745176Z",
          "shell.execute_reply": "2022-08-29T13:57:43.722422Z"
        },
        "trusted": true,
        "id": "BHCNGfDSuOoR"
      },
      "execution_count": null,
      "outputs": []
    },
    {
      "cell_type": "code",
      "source": [
        "BS = 32\n",
        "EPOCHS = 30\n",
        "\n",
        "history = model.fit(X, Y, batch_size=BS, epochs=EPOCHS)\n",
        "import matplotlib.pyplot as plt\n",
        "\n",
        "# summarize history for accuracy\n",
        "plt.plot(history.history['accuracy'])\n",
        "plt.title('model accuracy')\n",
        "plt.ylabel('accuracy')\n",
        "plt.xlabel('epoch')\n",
        "plt.show()\n",
        "# summarize history for loss\n",
        "plt.plot(history.history['loss'])\n",
        "plt.title('model loss')\n",
        "plt.ylabel('loss')\n",
        "plt.xlabel('epoch')\n",
        "plt.show()"
      ],
      "metadata": {
        "execution": {
          "iopub.status.busy": "2022-08-29T14:00:40.087385Z",
          "iopub.execute_input": "2022-08-29T14:00:40.087691Z",
          "iopub.status.idle": "2022-08-29T14:08:00.066104Z",
          "shell.execute_reply.started": "2022-08-29T14:00:40.087640Z",
          "shell.execute_reply": "2022-08-29T14:08:00.065416Z"
        },
        "trusted": true,
        "colab": {
          "base_uri": "https://localhost:8080/",
          "height": 1000
        },
        "id": "rybbaxnquOoR",
        "outputId": "c994a821-03b2-4ff4-9dae-6ce80d8172a6"
      },
      "execution_count": null,
      "outputs": [
        {
          "output_type": "stream",
          "name": "stdout",
          "text": [
            "Epoch 1/30\n",
            "1/1 [==============================] - 4s 4s/step - loss: 3.0017 - accuracy: 0.0000e+00\n",
            "Epoch 2/30\n",
            "1/1 [==============================] - 0s 32ms/step - loss: 2.9009 - accuracy: 0.1429\n",
            "Epoch 3/30\n",
            "1/1 [==============================] - 0s 30ms/step - loss: 2.7793 - accuracy: 0.1429\n",
            "Epoch 4/30\n",
            "1/1 [==============================] - 0s 27ms/step - loss: 2.6206 - accuracy: 0.1429\n",
            "Epoch 5/30\n",
            "1/1 [==============================] - 0s 41ms/step - loss: 2.4378 - accuracy: 0.1905\n",
            "Epoch 6/30\n",
            "1/1 [==============================] - 0s 32ms/step - loss: 2.2414 - accuracy: 0.2381\n",
            "Epoch 7/30\n",
            "1/1 [==============================] - 0s 33ms/step - loss: 2.0646 - accuracy: 0.3333\n",
            "Epoch 8/30\n",
            "1/1 [==============================] - 0s 28ms/step - loss: 1.8888 - accuracy: 0.6190\n",
            "Epoch 9/30\n",
            "1/1 [==============================] - 0s 30ms/step - loss: 1.7323 - accuracy: 0.6190\n",
            "Epoch 10/30\n",
            "1/1 [==============================] - 0s 26ms/step - loss: 1.5685 - accuracy: 0.7143\n",
            "Epoch 11/30\n",
            "1/1 [==============================] - 0s 28ms/step - loss: 1.4199 - accuracy: 0.8095\n",
            "Epoch 12/30\n",
            "1/1 [==============================] - 0s 28ms/step - loss: 1.2656 - accuracy: 0.9048\n",
            "Epoch 13/30\n",
            "1/1 [==============================] - 0s 32ms/step - loss: 1.1344 - accuracy: 0.9048\n",
            "Epoch 14/30\n",
            "1/1 [==============================] - 0s 30ms/step - loss: 1.0122 - accuracy: 1.0000\n",
            "Epoch 15/30\n",
            "1/1 [==============================] - 0s 33ms/step - loss: 0.9020 - accuracy: 1.0000\n",
            "Epoch 16/30\n",
            "1/1 [==============================] - 0s 28ms/step - loss: 0.8052 - accuracy: 1.0000\n",
            "Epoch 17/30\n",
            "1/1 [==============================] - 0s 30ms/step - loss: 0.7143 - accuracy: 1.0000\n",
            "Epoch 18/30\n",
            "1/1 [==============================] - 0s 33ms/step - loss: 0.6341 - accuracy: 1.0000\n",
            "Epoch 19/30\n",
            "1/1 [==============================] - 0s 33ms/step - loss: 0.5599 - accuracy: 1.0000\n",
            "Epoch 20/30\n",
            "1/1 [==============================] - 0s 34ms/step - loss: 0.4935 - accuracy: 1.0000\n",
            "Epoch 21/30\n",
            "1/1 [==============================] - 0s 30ms/step - loss: 0.4354 - accuracy: 1.0000\n",
            "Epoch 22/30\n",
            "1/1 [==============================] - 0s 33ms/step - loss: 0.3845 - accuracy: 1.0000\n",
            "Epoch 23/30\n",
            "1/1 [==============================] - 0s 28ms/step - loss: 0.3368 - accuracy: 1.0000\n",
            "Epoch 24/30\n",
            "1/1 [==============================] - 0s 33ms/step - loss: 0.2958 - accuracy: 1.0000\n",
            "Epoch 25/30\n",
            "1/1 [==============================] - 0s 30ms/step - loss: 0.2614 - accuracy: 1.0000\n",
            "Epoch 26/30\n",
            "1/1 [==============================] - 0s 27ms/step - loss: 0.2312 - accuracy: 1.0000\n",
            "Epoch 27/30\n",
            "1/1 [==============================] - 0s 49ms/step - loss: 0.2042 - accuracy: 1.0000\n",
            "Epoch 28/30\n",
            "1/1 [==============================] - 0s 37ms/step - loss: 0.1814 - accuracy: 1.0000\n",
            "Epoch 29/30\n",
            "1/1 [==============================] - 0s 30ms/step - loss: 0.1619 - accuracy: 1.0000\n",
            "Epoch 30/30\n",
            "1/1 [==============================] - 0s 30ms/step - loss: 0.1447 - accuracy: 1.0000\n"
          ]
        },
        {
          "output_type": "display_data",
          "data": {
            "text/plain": [
              "<Figure size 432x288 with 1 Axes>"
            ],
            "image/png": "[encoded data removed]"
          },
          "metadata": {
            "needs_background": "light"
          }
        },
        {
          "output_type": "display_data",
          "data": {
            "text/plain": [
              "<Figure size 432x288 with 1 Axes>"
            ],
            "image/png": "[encoded data removed]"
          },
          "metadata": {
            "needs_background": "light"
          }
        }
      ]
    },
    {
      "cell_type": "code",
      "source": [
        "model.summary()"
      ],
      "metadata": {
        "execution": {
          "iopub.status.busy": "2022-08-29T14:08:17.821935Z",
          "iopub.execute_input": "2022-08-29T14:08:17.822233Z",
          "iopub.status.idle": "2022-08-29T14:08:17.832732Z",
          "shell.execute_reply.started": "2022-08-29T14:08:17.822180Z",
          "shell.execute_reply": "2022-08-29T14:08:17.831456Z"
        },
        "trusted": true,
        "id": "bj1TyKnAuOoR",
        "outputId": "d63d1701-83b6-44b4-8cfc-b4e4e805a692",
        "colab": {
          "base_uri": "https://localhost:8080/"
        }
      },
      "execution_count": null,
      "outputs": [
        {
          "output_type": "stream",
          "name": "stdout",
          "text": [
            "Model: \"sequential_1\"\n",
            "_________________________________________________________________\n",
            " Layer (type)                Output Shape              Param #   \n",
            "=================================================================\n",
            " embedding_1 (Embedding)     (None, None, 300)         6000      \n",
            "                                                                 \n",
            " bidirectional_1 (Bidirectio  (None, 40)               51360     \n",
            " nal)                                                            \n",
            "                                                                 \n",
            " flatten_1 (Flatten)         (None, 40)                0         \n",
            "                                                                 \n",
            " dense_1 (Dense)             (None, 20)                820       \n",
            "                                                                 \n",
            "=================================================================\n",
            "Total params: 58,180\n",
            "Trainable params: 58,180\n",
            "Non-trainable params: 0\n",
            "_________________________________________________________________\n"
          ]
        }
      ]
    }
  ]
}